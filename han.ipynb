{
 "cells": [
  {
   "cell_type": "code",
   "execution_count": null,
   "id": "bbba35c2",
   "metadata": {},
   "outputs": [],
   "source": [
    "import tensorflow as tf\n",
    "import tensorflow_addons as tfa"
   ]
  },
  {
   "cell_type": "code",
   "execution_count": null,
   "id": "c7da5acf",
   "metadata": {},
   "outputs": [],
   "source": [
    "def Upsampling(inputs, factor=2):\n",
    "    x = tf.keras.layers.Conv2D(filters=256*(factor**2), kernel_size=3,\n",
    "                               kernel_initializer='he_normal', padding=\"same\")(inputs)\n",
    "    x = tf.nn.depth_to_space(x, block_size=factor)\n",
    "    return x"
   ]
  },
  {
   "cell_type": "code",
   "execution_count": null,
   "id": "e0b016e0",
   "metadata": {},
   "outputs": [],
   "source": [
    "def ChannelAttention(inputs):\n",
    "    apool = tfa.layers.AdaptiveAveragePooling2D(1)(inputs)\n",
    "    \n",
    "    mpool = tfa.layers.AdaptiveMaxPooling2D(1)(inputs)\n",
    "    \n",
    "    aconv = tf.keras.layers.Conv2D(filters=256//16, kernel_size=1, strides=1,\n",
    "                                    kernel_initializer='he_normal', padding='same')(apool)\n",
    "    aconv = tf.keras.layers.Conv2D(filters=256, kernel_size=1, strides=1, \n",
    "                                    kernel_initializer='he_normal', padding='same')(aconv)\n",
    "    \n",
    "    mconv = tf.keras.layers.Conv2D(filters=256//16, kernel_size=1, strides=1,\n",
    "                                    kernel_initializer='he_normal', padding='same')(mpool)\n",
    "    mconv = tf.keras.layers.Conv2D(filters=256, kernel_size=1, strides=1, \n",
    "                                    kernel_initializer='he_normal', padding='same')(mconv)\n",
    "    \n",
    "    add = tf.keras.layers.Add()([aconv, mconv])\n",
    "    x = tf.keras.layers.Activation('sigmoid')(add)\n",
    "    return x"
   ]
  },
  {
   "cell_type": "code",
   "execution_count": null,
   "id": "8221a933",
   "metadata": {},
   "outputs": [],
   "source": [
    "def RCAB(inputs):\n",
    "    \n",
    "    conv1 = tf.keras.layers.Conv2D(filters=256, kernel_size=3, strides=1, padding='same', \n",
    "                                   kernel_initializer='he_normal', activation='relu')(inputs)\n",
    "    ca = ChannelAttention(inputs=conv1)\n",
    "    conv2 = tf.keras.layers.Conv2D(filters=256, kernel_size=3, strides=1, padding='same', \n",
    "                                   kernel_initializer='he_normal', activation='relu')(ca)\n",
    "    pool = tf.math.reduce_max(conv2, axis=-1, keepdims=True)\n",
    "    sigmoid = tf.keras.layers.Activation('sigmoid')(pool)\n",
    "    \n",
    "    mul = tf.keras.layers.Multiply()([ca, sigmoid])\n",
    "    add = tf.keras.layers.Add()([inputs, mul])\n",
    "    return add"
   ]
  },
  {
   "cell_type": "code",
   "execution_count": null,
   "id": "6fff76bf",
   "metadata": {},
   "outputs": [],
   "source": [
    "def ResidualGroup(inputs):\n",
    "    x = RCAB(inputs)\n",
    "    x = RCAB(x)\n",
    "    x = RCAB(x)\n",
    "    x = tf.keras.layers.Conv2D(filters=256, kernel_size=3, strides=1, \n",
    "                               kernel_initializer='he_normal', padding='same')(x)\n",
    "    x = tf.keras.layers.Add()([inputs, x])\n",
    "    return x"
   ]
  },
  {
   "cell_type": "code",
   "execution_count": null,
   "id": "3a187cc6",
   "metadata": {},
   "outputs": [],
   "source": [
    "def CAM(inputs):\n",
    "    shape = [tf.shape(inputs)[k] for k in range(4)]\n",
    "    x = tf.expand_dims(inputs, axis=1)\n",
    "    x = tf.keras.layers.Conv3D(filters=256, kernel_size=3, strides=1, padding='same', \n",
    "                               kernel_initializer='he_normal', activation='sigmoid')(x)\n",
    "    x = tf.keras.layers.Lambda(lambda t: t * 0.2)(x)\n",
    "    x = tf.reshape(x, [shape[0], shape[1], shape[2], -1])\n",
    "    m = tf.keras.layers.Multiply()([inputs, x])\n",
    "    a = tf.keras.layers.Add()([inputs, m])\n",
    "    return a"
   ]
  },
  {
   "cell_type": "code",
   "execution_count": null,
   "id": "e68fc4aa",
   "metadata": {},
   "outputs": [],
   "source": [
    "def LAM(inputs):\n",
    "\n",
    "    shape = [tf.shape(inputs)[k] for k in range(5)]\n",
    "    x = tf.reshape(inputs, [shape[0], shape[1], -1])\n",
    "    mul1 = tf.linalg.matmul(x, x, transpose_b=True)\n",
    "    softmax = tf.keras.layers.Activation('softmax')(mul1)\n",
    "    softmax = tf.keras.layers.Lambda(lambda t: t * 0.2)(softmax)\n",
    "    mul2 = tf.linalg.matmul(softmax, x)\n",
    "    x_reshape = tf.reshape(mul2, [shape[0], shape[1], shape[2], shape[3], shape[4]])\n",
    "    add = tf.keras.layers.Add()([inputs, x_reshape])\n",
    "    feature = tf.reshape(add, [shape[0], shape[2], shape[3], shape[1]*shape[4]])\n",
    "    conv = tf.keras.layers.Conv2D(filters=256, kernel_size=1, strides=1, \n",
    "                                  kernel_initializer='he_normal', padding='same')(feature)\n",
    "        \n",
    "    return conv"
   ]
  },
  {
   "cell_type": "code",
   "execution_count": null,
   "id": "b9a419d9",
   "metadata": {},
   "outputs": [],
   "source": [
    "def model():\n",
    "    inputs = tf.keras.layers.Input((None,None,3))\n",
    "    x = tf.keras.layers.Rescaling(scale=1.0 / 255)(inputs)\n",
    "    \n",
    "    x = tf.keras.layers.Conv2D(filters=256, kernel_size=3, strides=1,\n",
    "                               kernel_initializer='he_normal', padding='same')(x)\n",
    "    \n",
    "    x1 = ResidualGroup(inputs=x)\n",
    "    x2 = ResidualGroup(inputs=x)\n",
    "    x3 = ResidualGroup(inputs=x)\n",
    "    x4 = ResidualGroup(inputs=x)\n",
    "    x5 = ResidualGroup(inputs=x)\n",
    "    x6 = ResidualGroup(inputs=x)\n",
    "    x7 = ResidualGroup(inputs=x)\n",
    "    x8 = ResidualGroup(inputs=x)\n",
    "    x9 = ResidualGroup(inputs=x)\n",
    "    x10 = ResidualGroup(inputs=x)\n",
    "    \n",
    "    conv = tf.keras.layers.Conv2D(filters=256, kernel_size=3, strides=1,\n",
    "                                  kernel_initializer='he_normal', padding='same')(x3)\n",
    "    cam = CAM(inputs=conv)\n",
    "    \n",
    "    rg1 = tf.expand_dims(x1, axis=1)\n",
    "    rg2 = tf.expand_dims(x2, axis=1)\n",
    "    rg3 = tf.expand_dims(x3, axis=1)\n",
    "    rg4 = tf.expand_dims(x4, axis=1)\n",
    "    rg5 = tf.expand_dims(x5, axis=1)\n",
    "    rg6 = tf.expand_dims(x6, axis=1)\n",
    "    rg7 = tf.expand_dims(x7, axis=1)\n",
    "    rg8 = tf.expand_dims(x8, axis=1)\n",
    "    rg9 = tf.expand_dims(x9, axis=1)\n",
    "    rg10 = tf.expand_dims(x10, axis=1)\n",
    "    concat = tf.keras.layers.Concatenate(axis=1)([rg1, rg2, rg3, rg4, rg5, rg6, rg7, rg8, rg9, rg10])\n",
    "\n",
    "    lam = LAM(inputs=concat)\n",
    "    \n",
    "    x = tf.keras.layers.Add()([cam, lam, x]) \n",
    "    \n",
    "    x = Upsampling(x)\n",
    "    x = Upsampling(x)\n",
    "    x = tf.keras.layers.Conv2D(filters=3, kernel_size=3, strides=1,\n",
    "                               kernel_initializer='he_normal', padding='same')(x)\n",
    "    x = tf.keras.layers.Rescaling(scale=255)(x)\n",
    "    return tf.keras.Model(inputs, x)"
   ]
  }
 ],
 "metadata": {
  "kernelspec": {
   "display_name": "Python 3",
   "language": "python",
   "name": "python3"
  },
  "language_info": {
   "codemirror_mode": {
    "name": "ipython",
    "version": 3
   },
   "file_extension": ".py",
   "mimetype": "text/x-python",
   "name": "python",
   "nbconvert_exporter": "python",
   "pygments_lexer": "ipython3",
   "version": "3.8.8"
  }
 },
 "nbformat": 4,
 "nbformat_minor": 5
}
